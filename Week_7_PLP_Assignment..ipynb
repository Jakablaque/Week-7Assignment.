{
 "cells": [
  {
   "cell_type": "code",
   "execution_count": null,
   "id": "7582c921",
   "metadata": {},
   "outputs": [],
   "source": [
    "\n",
    "import pandas as pd\n",
    "from sklearn.datasets import load_iris\n",
    "\n",
    "# Load dataset\n",
    "iris_data = load_iris()\n",
    "df = pd.DataFrame(data=iris_data.data, columns=iris_data.feature_names)\n",
    "df['species'] = iris_data.target\n",
    "df['species'] = df['species'].map(dict(zip(range(3), iris_data.target_names)))\n",
    "\n",
    "# Display first few rows\n",
    "df.head()\n"
   ]
  },
  {
   "cell_type": "code",
   "execution_count": null,
   "id": "9a0379b4",
   "metadata": {},
   "outputs": [],
   "source": [
    "\n",
    "df.info()\n",
    "df.isnull().sum()\n"
   ]
  },
  {
   "cell_type": "code",
   "execution_count": null,
   "id": "d443dc8e",
   "metadata": {},
   "outputs": [],
   "source": [
    "\n",
    "# Drop missing values if any\n",
    "df.dropna(inplace=True)\n"
   ]
  },
  {
   "cell_type": "code",
   "execution_count": null,
   "id": "ec52a90a",
   "metadata": {},
   "outputs": [],
   "source": [
    "\n",
    "df.describe()\n"
   ]
  },
  {
   "cell_type": "code",
   "execution_count": null,
   "id": "408fed03",
   "metadata": {},
   "outputs": [],
   "source": [
    "\n",
    "df.groupby('species').mean()\n"
   ]
  },
  {
   "cell_type": "code",
   "execution_count": null,
   "id": "20d06ad2",
   "metadata": {},
   "outputs": [],
   "source": [
    "\n",
    "import matplotlib.pyplot as plt\n",
    "import seaborn as sns\n",
    "\n",
    "sns.set(style=\"whitegrid\")\n",
    "\n",
    "# Line plot\n",
    "plt.figure(figsize=(8, 5))\n",
    "grouped = df.groupby('species').mean().reset_index()\n",
    "plt.plot(grouped['species'], grouped['sepal length (cm)'], marker='o')\n",
    "plt.title('Average Sepal Length by Species')\n",
    "plt.xlabel('Species')\n",
    "plt.ylabel('Sepal Length (cm)')\n",
    "plt.grid(True)\n",
    "plt.show()\n"
   ]
  },
  {
   "cell_type": "code",
   "execution_count": null,
   "id": "285e00a6",
   "metadata": {},
   "outputs": [],
   "source": [
    "\n",
    "# Bar chart\n",
    "plt.figure(figsize=(8, 5))\n",
    "sns.barplot(x='species', y='petal length (cm)', data=df, estimator='mean')\n",
    "plt.title('Average Petal Length per Species')\n",
    "plt.xlabel('Species')\n",
    "plt.ylabel('Petal Length (cm)')\n",
    "plt.show()\n"
   ]
  },
  {
   "cell_type": "code",
   "execution_count": null,
   "id": "16c63d58",
   "metadata": {},
   "outputs": [],
   "source": [
    "\n",
    "# Histogram\n",
    "plt.figure(figsize=(8, 5))\n",
    "plt.hist(df['sepal width (cm)'], bins=20, color='orange', edgecolor='black')\n",
    "plt.title('Distribution of Sepal Width')\n",
    "plt.xlabel('Sepal Width (cm)')\n",
    "plt.ylabel('Frequency')\n",
    "plt.show()\n"
   ]
  },
  {
   "cell_type": "code",
   "execution_count": null,
   "id": "81b6df8c",
   "metadata": {},
   "outputs": [],
   "source": [
    "\n",
    "# Scatter plot\n",
    "plt.figure(figsize=(8, 5))\n",
    "sns.scatterplot(data=df, x='sepal length (cm)', y='petal length (cm)', hue='species')\n",
    "plt.title('Sepal Length vs Petal Length')\n",
    "plt.xlabel('Sepal Length (cm)')\n",
    "plt.ylabel('Petal Length (cm)')\n",
    "plt.legend(title='Species')\n",
    "plt.show()\n"
   ]
  },
  {
   "cell_type": "code",
   "execution_count": null,
   "id": "b0a1aeb8",
   "metadata": {},
   "outputs": [],
   "source": [
    "\n",
    "# Error handling demonstration\n",
    "try:\n",
    "    temp = pd.read_csv(\"non_existent.csv\")\n",
    "except FileNotFoundError:\n",
    "    print(\"File not found. Please make sure the path is correct.\")\n"
   ]
  }
 ],
 "metadata": {},
 "nbformat": 4,
 "nbformat_minor": 5
}
